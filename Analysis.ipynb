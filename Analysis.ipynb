{
 "cells": [
  {
   "cell_type": "markdown",
   "metadata": {},
   "source": [
    "### Credit card Lead detection: Imabalanced Classification Problem\n",
    "#### Analytics Vidhya Hackathon"
   ]
  },
  {
   "cell_type": "code",
   "execution_count": 141,
   "metadata": {},
   "outputs": [],
   "source": [
    "#import files\n",
    "\n",
    "import pandas as pd\n",
    "import numpy as np\n",
    "import seaborn as sns\n",
    "import matplotlib.pyplot as plt\n",
    "\n",
    "from sklearn import preprocessing\n",
    "\n",
    "from sklearn.ensemble import RandomForestClassifier\n",
    "from sklearn.tree import DecisionTreeClassifier\n",
    "from catboost import CatBoostClassifier\n",
    "\n",
    "from sklearn.metrics import confusion_matrix,roc_auc_score, plot_confusion_matrix, classification_report, accuracy_score\n",
    "from sklearn.model_selection import GridSearchCV\n",
    "\n",
    "\n",
    "from hyperopt import hp,fmin,tpe,Trials\n",
    "from hyperopt.pyll.base import scope\n",
    "from functools import partial\n",
    "\n",
    "import warnings\n",
    "warnings.filterwarnings(action='ignore')"
   ]
  },
  {
   "cell_type": "code",
   "execution_count": 142,
   "metadata": {},
   "outputs": [
    {
     "data": {
      "text/html": [
       "<div>\n",
       "<style scoped>\n",
       "    .dataframe tbody tr th:only-of-type {\n",
       "        vertical-align: middle;\n",
       "    }\n",
       "\n",
       "    .dataframe tbody tr th {\n",
       "        vertical-align: top;\n",
       "    }\n",
       "\n",
       "    .dataframe thead th {\n",
       "        text-align: right;\n",
       "    }\n",
       "</style>\n",
       "<table border=\"1\" class=\"dataframe\">\n",
       "  <thead>\n",
       "    <tr style=\"text-align: right;\">\n",
       "      <th></th>\n",
       "      <th>ID</th>\n",
       "      <th>Gender</th>\n",
       "      <th>Age</th>\n",
       "      <th>Region_Code</th>\n",
       "      <th>Occupation</th>\n",
       "      <th>Channel_Code</th>\n",
       "      <th>Vintage</th>\n",
       "      <th>Credit_Product</th>\n",
       "      <th>Avg_Account_Balance</th>\n",
       "      <th>Is_Active</th>\n",
       "      <th>Is_Lead</th>\n",
       "    </tr>\n",
       "  </thead>\n",
       "  <tbody>\n",
       "    <tr>\n",
       "      <th>0</th>\n",
       "      <td>NNVBBKZB</td>\n",
       "      <td>Female</td>\n",
       "      <td>73</td>\n",
       "      <td>RG268</td>\n",
       "      <td>Other</td>\n",
       "      <td>X3</td>\n",
       "      <td>43</td>\n",
       "      <td>No</td>\n",
       "      <td>1045696</td>\n",
       "      <td>No</td>\n",
       "      <td>0</td>\n",
       "    </tr>\n",
       "    <tr>\n",
       "      <th>1</th>\n",
       "      <td>IDD62UNG</td>\n",
       "      <td>Female</td>\n",
       "      <td>30</td>\n",
       "      <td>RG277</td>\n",
       "      <td>Salaried</td>\n",
       "      <td>X1</td>\n",
       "      <td>32</td>\n",
       "      <td>No</td>\n",
       "      <td>581988</td>\n",
       "      <td>No</td>\n",
       "      <td>0</td>\n",
       "    </tr>\n",
       "  </tbody>\n",
       "</table>\n",
       "</div>"
      ],
      "text/plain": [
       "         ID  Gender  Age Region_Code Occupation Channel_Code  Vintage  \\\n",
       "0  NNVBBKZB  Female   73       RG268      Other           X3       43   \n",
       "1  IDD62UNG  Female   30       RG277   Salaried           X1       32   \n",
       "\n",
       "  Credit_Product  Avg_Account_Balance Is_Active  Is_Lead  \n",
       "0             No              1045696        No        0  \n",
       "1             No               581988        No        0  "
      ]
     },
     "execution_count": 142,
     "metadata": {},
     "output_type": "execute_result"
    }
   ],
   "source": [
    "#read file to dataframe\n",
    "\n",
    "df = pd.read_csv('train_s3TEQDk.csv') \n",
    "df.head(2)"
   ]
  },
  {
   "cell_type": "code",
   "execution_count": 143,
   "metadata": {},
   "outputs": [
    {
     "data": {
      "text/html": [
       "<div>\n",
       "<style scoped>\n",
       "    .dataframe tbody tr th:only-of-type {\n",
       "        vertical-align: middle;\n",
       "    }\n",
       "\n",
       "    .dataframe tbody tr th {\n",
       "        vertical-align: top;\n",
       "    }\n",
       "\n",
       "    .dataframe thead th {\n",
       "        text-align: right;\n",
       "    }\n",
       "</style>\n",
       "<table border=\"1\" class=\"dataframe\">\n",
       "  <thead>\n",
       "    <tr style=\"text-align: right;\">\n",
       "      <th></th>\n",
       "      <th>ID</th>\n",
       "      <th>Gender</th>\n",
       "      <th>Age</th>\n",
       "      <th>Region_Code</th>\n",
       "      <th>Occupation</th>\n",
       "      <th>Channel_Code</th>\n",
       "      <th>Vintage</th>\n",
       "      <th>Credit_Product</th>\n",
       "      <th>Avg_Account_Balance</th>\n",
       "      <th>Is_Active</th>\n",
       "    </tr>\n",
       "  </thead>\n",
       "  <tbody>\n",
       "    <tr>\n",
       "      <th>0</th>\n",
       "      <td>VBENBARO</td>\n",
       "      <td>Male</td>\n",
       "      <td>29</td>\n",
       "      <td>RG254</td>\n",
       "      <td>Other</td>\n",
       "      <td>X1</td>\n",
       "      <td>25</td>\n",
       "      <td>Yes</td>\n",
       "      <td>742366</td>\n",
       "      <td>No</td>\n",
       "    </tr>\n",
       "    <tr>\n",
       "      <th>1</th>\n",
       "      <td>CCMEWNKY</td>\n",
       "      <td>Male</td>\n",
       "      <td>43</td>\n",
       "      <td>RG268</td>\n",
       "      <td>Other</td>\n",
       "      <td>X2</td>\n",
       "      <td>49</td>\n",
       "      <td>NaN</td>\n",
       "      <td>925537</td>\n",
       "      <td>No</td>\n",
       "    </tr>\n",
       "    <tr>\n",
       "      <th>2</th>\n",
       "      <td>VK3KGA9M</td>\n",
       "      <td>Male</td>\n",
       "      <td>31</td>\n",
       "      <td>RG270</td>\n",
       "      <td>Salaried</td>\n",
       "      <td>X1</td>\n",
       "      <td>14</td>\n",
       "      <td>No</td>\n",
       "      <td>215949</td>\n",
       "      <td>No</td>\n",
       "    </tr>\n",
       "  </tbody>\n",
       "</table>\n",
       "</div>"
      ],
      "text/plain": [
       "         ID Gender  Age Region_Code Occupation Channel_Code  Vintage  \\\n",
       "0  VBENBARO   Male   29       RG254      Other           X1       25   \n",
       "1  CCMEWNKY   Male   43       RG268      Other           X2       49   \n",
       "2  VK3KGA9M   Male   31       RG270   Salaried           X1       14   \n",
       "\n",
       "  Credit_Product  Avg_Account_Balance Is_Active  \n",
       "0            Yes               742366        No  \n",
       "1            NaN               925537        No  \n",
       "2             No               215949        No  "
      ]
     },
     "execution_count": 143,
     "metadata": {},
     "output_type": "execute_result"
    }
   ],
   "source": [
    "#load test data\n",
    "df_test = pd.read_csv('test_mSzZ8RL.csv')\n",
    "df_test.head(3)"
   ]
  },
  {
   "cell_type": "markdown",
   "metadata": {},
   "source": [
    "### EDA"
   ]
  },
  {
   "cell_type": "code",
   "execution_count": 144,
   "metadata": {},
   "outputs": [],
   "source": [
    "#check for null\n",
    "def check_null_value(data):\n",
    "    temp = 0\n",
    "    for col in data.columns:\n",
    "        if data[col].isnull().sum()>0:\n",
    "            print('Columns - ',col,data[col].isnull().sum(),'Null present',round(data[col].isnull().sum()*100/len(data),2),'%')\n",
    "            temp=1\n",
    "    if temp == 0:\n",
    "        print('There is no NULL')"
   ]
  },
  {
   "cell_type": "code",
   "execution_count": 145,
   "metadata": {},
   "outputs": [
    {
     "name": "stdout",
     "output_type": "stream",
     "text": [
      "Columns -  Credit_Product 29325 Null present 11.93 %\n"
     ]
    }
   ],
   "source": [
    "#call function for checking NULL in train data\n",
    "\n",
    "check_null_value(df)"
   ]
  },
  {
   "cell_type": "code",
   "execution_count": 146,
   "metadata": {},
   "outputs": [
    {
     "name": "stdout",
     "output_type": "stream",
     "text": [
      "Columns -  Credit_Product 12522 Null present 11.89 %\n"
     ]
    }
   ],
   "source": [
    "#call function for checking NULL in test data\n",
    "\n",
    "check_null_value(df_test)"
   ]
  },
  {
   "cell_type": "markdown",
   "metadata": {},
   "source": [
    "#### OBSERVATION -\n",
    "- <b>Only one field has NULL values"
   ]
  },
  {
   "cell_type": "code",
   "execution_count": 147,
   "metadata": {},
   "outputs": [
    {
     "data": {
      "text/plain": [
       "0"
      ]
     },
     "execution_count": 147,
     "metadata": {},
     "output_type": "execute_result"
    }
   ],
   "source": [
    "df.duplicated().sum()"
   ]
  },
  {
   "cell_type": "markdown",
   "metadata": {},
   "source": [
    "#### OBSERVATION -\n",
    "- <b> There is no duplicate value present in train data"
   ]
  },
  {
   "cell_type": "code",
   "execution_count": 148,
   "metadata": {},
   "outputs": [
    {
     "name": "stdout",
     "output_type": "stream",
     "text": [
      "ID is unique field\n"
     ]
    }
   ],
   "source": [
    "#checking unique field\n",
    "for col in df.columns:\n",
    "    if len(df) == df[col].nunique():\n",
    "        print ('{} is unique field'.format(col))"
   ]
  },
  {
   "cell_type": "markdown",
   "metadata": {},
   "source": [
    "- <b> As ID is unique field we'll remove it from processing "
   ]
  },
  {
   "cell_type": "markdown",
   "metadata": {},
   "source": [
    "#### Showing distribution of categorical fields"
   ]
  },
  {
   "cell_type": "code",
   "execution_count": 149,
   "metadata": {},
   "outputs": [
    {
     "data": {
      "image/png": "[encoded data removed]",
      "text/plain": [
       "<Figure size 432x288 with 1 Axes>"
      ]
     },
     "metadata": {
      "needs_background": "light"
     },
     "output_type": "display_data"
    },
    {
     "data": {
      "image/png": "[encoded data removed]",
      "text/plain": [
       "<Figure size 432x288 with 1 Axes>"
      ]
     },
     "metadata": {
      "needs_background": "light"
     },
     "output_type": "display_data"
    },
    {
     "data": {
      "image/png": "[encoded data removed]",
      "text/plain": [
       "<Figure size 432x288 with 1 Axes>"
      ]
     },
     "metadata": {
      "needs_background": "light"
     },
     "output_type": "display_data"
    },
    {
     "data": {
      "image/png": "[encoded data removed]",
      "text/plain": [
       "<Figure size 432x288 with 1 Axes>"
      ]
     },
     "metadata": {
      "needs_background": "light"
     },
     "output_type": "display_data"
    },
    {
     "data": {
      "image/png": "[encoded data removed]",
      "text/plain": [
       "<Figure size 432x288 with 1 Axes>"
      ]
     },
     "metadata": {
      "needs_background": "light"
     },
     "output_type": "display_data"
    },
    {
     "data": {
      "image/png": "[encoded data removed]",
      "text/plain": [
       "<Figure size 432x288 with 1 Axes>"
      ]
     },
     "metadata": {
      "needs_background": "light"
     },
     "output_type": "display_data"
    }
   ],
   "source": [
    "for col in df.columns:\n",
    "    if df[col].dtype == 'O' and col!= 'ID':\n",
    "        sns.countplot(df[col])\n",
    "        plt.show()"
   ]
  },
  {
   "cell_type": "markdown",
   "metadata": {},
   "source": [
    "#### Showing distribution of continuous field"
   ]
  },
  {
   "cell_type": "code",
   "execution_count": 150,
   "metadata": {},
   "outputs": [
    {
     "data": {
      "image/png": "[encoded data removed]",
      "text/plain": [
       "<Figure size 432x288 with 1 Axes>"
      ]
     },
     "metadata": {
      "needs_background": "light"
     },
     "output_type": "display_data"
    },
    {
     "data": {
      "image/png": "[encoded data removed]",
      "text/plain": [
       "<Figure size 432x288 with 1 Axes>"
      ]
     },
     "metadata": {
      "needs_background": "light"
     },
     "output_type": "display_data"
    },
    {
     "data": {
      "image/png": "[encoded data removed]",
      "text/plain": [
       "<Figure size 432x288 with 1 Axes>"
      ]
     },
     "metadata": {
      "needs_background": "light"
     },
     "output_type": "display_data"
    }
   ],
   "source": [
    "for col in df.columns:\n",
    "    if df[col].dtype != 'O' and col !='Is_Lead':\n",
    "        sns.distplot(df[col])\n",
    "        plt.show()"
   ]
  },
  {
   "cell_type": "markdown",
   "metadata": {},
   "source": [
    "#### Showing distribution of target"
   ]
  },
  {
   "cell_type": "code",
   "execution_count": 151,
   "metadata": {},
   "outputs": [
    {
     "data": {
      "text/plain": [
       "0    187437\n",
       "1     58288\n",
       "Name: Is_Lead, dtype: int64"
      ]
     },
     "execution_count": 151,
     "metadata": {},
     "output_type": "execute_result"
    }
   ],
   "source": [
    "df['Is_Lead'].value_counts()"
   ]
  },
  {
   "cell_type": "markdown",
   "metadata": {},
   "source": [
    "- <b> Imbalanced Dataset"
   ]
  },
  {
   "cell_type": "markdown",
   "metadata": {},
   "source": [
    "### Notes from EDA\n",
    "- 1. This is an imbalanced dataset where target class is unevenly distributed\n",
    "- 2. Categorical field Credit_Product has NULL which should be treated\n",
    "- 3. Unique field ID should be removed\n",
    "\n",
    "- 4. Categorical fields needs encoding"
   ]
  },
  {
   "cell_type": "markdown",
   "metadata": {},
   "source": [
    "## Feature Engineering"
   ]
  },
  {
   "cell_type": "markdown",
   "metadata": {},
   "source": [
    "#### ID is unique field so we are dropping it"
   ]
  },
  {
   "cell_type": "markdown",
   "metadata": {},
   "source": [
    "- <B> ID removed from dataset"
   ]
  },
  {
   "cell_type": "code",
   "execution_count": 152,
   "metadata": {},
   "outputs": [],
   "source": [
    "df.drop(['ID'],axis=1,inplace=True)"
   ]
  },
  {
   "cell_type": "code",
   "execution_count": 153,
   "metadata": {},
   "outputs": [],
   "source": [
    "#storing ID for test data\n",
    "\n",
    "test_data_id = df_test['ID']"
   ]
  },
  {
   "cell_type": "code",
   "execution_count": 154,
   "metadata": {},
   "outputs": [],
   "source": [
    "df_test.drop(['ID'],axis=1,inplace=True)"
   ]
  },
  {
   "cell_type": "markdown",
   "metadata": {},
   "source": [
    "<b> In the Train and Test data Credit_Product field's missing data will be filled with \"Missing\" string"
   ]
  },
  {
   "cell_type": "code",
   "execution_count": 155,
   "metadata": {},
   "outputs": [
    {
     "data": {
      "text/plain": [
       "No     144357\n",
       "Yes     72043\n",
       "Name: Credit_Product, dtype: int64"
      ]
     },
     "execution_count": 155,
     "metadata": {},
     "output_type": "execute_result"
    }
   ],
   "source": [
    "df['Credit_Product'].value_counts()"
   ]
  },
  {
   "cell_type": "code",
   "execution_count": 156,
   "metadata": {},
   "outputs": [],
   "source": [
    "df['Credit_Product'].fillna('Missing',inplace=True)\n",
    "df_test['Credit_Product'].fillna('Missing',inplace=True)"
   ]
  },
  {
   "cell_type": "markdown",
   "metadata": {},
   "source": [
    "#### Frequency encode of Region_Code"
   ]
  },
  {
   "cell_type": "code",
   "execution_count": 157,
   "metadata": {},
   "outputs": [],
   "source": [
    "def frequecy_encode():\n",
    "    fields_to_encode = ['Region_Code','Occupation','Channel_Code']\n",
    "    for col in fields_to_encode:\n",
    "        dic_frequency = df[col].value_counts(normalize=True).to_dict()\n",
    "        \n",
    "        df[col] = df[col].map(dic_frequency)\n",
    "        df_test[col] = df_test[col].map(dic_frequency)\n",
    "        \n",
    "#function called\n",
    "frequecy_encode()"
   ]
  },
  {
   "cell_type": "code",
   "execution_count": 158,
   "metadata": {},
   "outputs": [
    {
     "data": {
      "text/html": [
       "<div>\n",
       "<style scoped>\n",
       "    .dataframe tbody tr th:only-of-type {\n",
       "        vertical-align: middle;\n",
       "    }\n",
       "\n",
       "    .dataframe tbody tr th {\n",
       "        vertical-align: top;\n",
       "    }\n",
       "\n",
       "    .dataframe thead th {\n",
       "        text-align: right;\n",
       "    }\n",
       "</style>\n",
       "<table border=\"1\" class=\"dataframe\">\n",
       "  <thead>\n",
       "    <tr style=\"text-align: right;\">\n",
       "      <th></th>\n",
       "      <th>Gender</th>\n",
       "      <th>Age</th>\n",
       "      <th>Region_Code</th>\n",
       "      <th>Occupation</th>\n",
       "      <th>Channel_Code</th>\n",
       "      <th>Vintage</th>\n",
       "      <th>Credit_Product</th>\n",
       "      <th>Avg_Account_Balance</th>\n",
       "      <th>Is_Active</th>\n",
       "      <th>Is_Lead</th>\n",
       "    </tr>\n",
       "  </thead>\n",
       "  <tbody>\n",
       "    <tr>\n",
       "      <th>0</th>\n",
       "      <td>Female</td>\n",
       "      <td>73</td>\n",
       "      <td>0.146237</td>\n",
       "      <td>0.285575</td>\n",
       "      <td>0.27963</td>\n",
       "      <td>43</td>\n",
       "      <td>No</td>\n",
       "      <td>1045696</td>\n",
       "      <td>No</td>\n",
       "      <td>0</td>\n",
       "    </tr>\n",
       "    <tr>\n",
       "      <th>1</th>\n",
       "      <td>Female</td>\n",
       "      <td>30</td>\n",
       "      <td>0.052197</td>\n",
       "      <td>0.293006</td>\n",
       "      <td>0.42209</td>\n",
       "      <td>32</td>\n",
       "      <td>No</td>\n",
       "      <td>581988</td>\n",
       "      <td>No</td>\n",
       "      <td>0</td>\n",
       "    </tr>\n",
       "    <tr>\n",
       "      <th>2</th>\n",
       "      <td>Female</td>\n",
       "      <td>56</td>\n",
       "      <td>0.146237</td>\n",
       "      <td>0.410565</td>\n",
       "      <td>0.27963</td>\n",
       "      <td>26</td>\n",
       "      <td>No</td>\n",
       "      <td>1484315</td>\n",
       "      <td>Yes</td>\n",
       "      <td>0</td>\n",
       "    </tr>\n",
       "    <tr>\n",
       "      <th>3</th>\n",
       "      <td>Male</td>\n",
       "      <td>34</td>\n",
       "      <td>0.031417</td>\n",
       "      <td>0.293006</td>\n",
       "      <td>0.42209</td>\n",
       "      <td>19</td>\n",
       "      <td>No</td>\n",
       "      <td>470454</td>\n",
       "      <td>No</td>\n",
       "      <td>0</td>\n",
       "    </tr>\n",
       "    <tr>\n",
       "      <th>4</th>\n",
       "      <td>Female</td>\n",
       "      <td>30</td>\n",
       "      <td>0.023722</td>\n",
       "      <td>0.293006</td>\n",
       "      <td>0.42209</td>\n",
       "      <td>33</td>\n",
       "      <td>No</td>\n",
       "      <td>886787</td>\n",
       "      <td>No</td>\n",
       "      <td>0</td>\n",
       "    </tr>\n",
       "  </tbody>\n",
       "</table>\n",
       "</div>"
      ],
      "text/plain": [
       "   Gender  Age  Region_Code  Occupation  Channel_Code  Vintage Credit_Product  \\\n",
       "0  Female   73     0.146237    0.285575       0.27963       43             No   \n",
       "1  Female   30     0.052197    0.293006       0.42209       32             No   \n",
       "2  Female   56     0.146237    0.410565       0.27963       26             No   \n",
       "3    Male   34     0.031417    0.293006       0.42209       19             No   \n",
       "4  Female   30     0.023722    0.293006       0.42209       33             No   \n",
       "\n",
       "   Avg_Account_Balance Is_Active  Is_Lead  \n",
       "0              1045696        No        0  \n",
       "1               581988        No        0  \n",
       "2              1484315       Yes        0  \n",
       "3               470454        No        0  \n",
       "4               886787        No        0  "
      ]
     },
     "execution_count": 158,
     "metadata": {},
     "output_type": "execute_result"
    }
   ],
   "source": [
    "df.head()"
   ]
  },
  {
   "cell_type": "markdown",
   "metadata": {},
   "source": [
    "#### Declaring function for feature transform"
   ]
  },
  {
   "cell_type": "code",
   "execution_count": 159,
   "metadata": {},
   "outputs": [],
   "source": [
    "#function for categorical variable to dummy\n",
    "\n",
    "def categorical_variable_dummy(data):\n",
    "     cat_col = [col for col in data.columns if data[col].dtype == 'O']\n",
    "     data = pd.get_dummies(data,columns=cat_col)  \n",
    "     return data"
   ]
  },
  {
   "cell_type": "code",
   "execution_count": 160,
   "metadata": {},
   "outputs": [],
   "source": [
    "#call function for dummy conversion\n",
    "\n",
    "df = categorical_variable_dummy(df)\n",
    "df_test = categorical_variable_dummy(df_test)"
   ]
  },
  {
   "cell_type": "code",
   "execution_count": 161,
   "metadata": {},
   "outputs": [],
   "source": [
    "# df['Age'] = df['Age'] * 12\n",
    "# df['account_balance_age_ratio'] = df['Avg_Account_Balance'] / df['Age']\n",
    "# df['account_balance_vinatge_ratio'] = df['Avg_Account_Balance'] / df['Vintage']\n",
    "# df['age_vinatge_ratio'] = df['Age'] / df['Vintage']\n",
    "\n",
    "# df_test['Age'] = df_test['Age'] * 12\n",
    "# df_test['account_balance_age_ratio'] = df_test['Avg_Account_Balance'] / df_test['Age']\n",
    "# df_test['account_balance_vinatge_ratio'] = df_test['Avg_Account_Balance'] / df_test['Vintage']\n",
    "# df_test['age_vinatge_ratio'] = df_test['Age'] / df_test['Vintage']"
   ]
  },
  {
   "cell_type": "code",
   "execution_count": null,
   "metadata": {},
   "outputs": [],
   "source": []
  },
  {
   "cell_type": "code",
   "execution_count": 162,
   "metadata": {},
   "outputs": [],
   "source": [
    "# df.head(3)"
   ]
  },
  {
   "cell_type": "code",
   "execution_count": 163,
   "metadata": {},
   "outputs": [],
   "source": [
    "# df = pd.get_dummies(df,columns=['Age_binned','Vintage_binned','Avg_Account_Balance_binned'])\n",
    "# df_test = pd.get_dummies(df_test,columns=['Age_binned','Vintage_binned','Avg_Account_Balance_binned'])"
   ]
  },
  {
   "cell_type": "markdown",
   "metadata": {},
   "source": [
    "### Model processing"
   ]
  },
  {
   "cell_type": "code",
   "execution_count": 164,
   "metadata": {},
   "outputs": [],
   "source": [
    "#split the data into X & y; label and feature component\n",
    "\n",
    "X=df.drop(['Is_Lead'],axis=1) # create X or indepent variable set of the dataset\n",
    "y=df['Is_Lead']               # create y or target variable"
   ]
  },
  {
   "cell_type": "code",
   "execution_count": 165,
   "metadata": {},
   "outputs": [],
   "source": [
    "#split of train and validation set\n",
    "\n",
    "from sklearn.model_selection import train_test_split\n",
    "X_train, X_test, y_train, y_test = train_test_split(X, y, test_size=0.3, random_state=42)"
   ]
  },
  {
   "cell_type": "code",
   "execution_count": 166,
   "metadata": {},
   "outputs": [],
   "source": [
    "from sklearn.preprocessing import MinMaxScaler\n",
    "scaler = MinMaxScaler()\n",
    "scale = ['Age','Vintage','Avg_Account_Balance']"
   ]
  },
  {
   "cell_type": "code",
   "execution_count": 167,
   "metadata": {},
   "outputs": [],
   "source": [
    "X_train[scale] = scaler.fit_transform(X_train[scale])\n",
    "X_test[scale] = scaler.transform(X_test[scale])\n",
    "df_test[scale] = scaler.transform(df_test[scale])"
   ]
  },
  {
   "cell_type": "code",
   "execution_count": 104,
   "metadata": {},
   "outputs": [
    {
     "data": {
      "text/html": [
       "<div>\n",
       "<style scoped>\n",
       "    .dataframe tbody tr th:only-of-type {\n",
       "        vertical-align: middle;\n",
       "    }\n",
       "\n",
       "    .dataframe tbody tr th {\n",
       "        vertical-align: top;\n",
       "    }\n",
       "\n",
       "    .dataframe thead th {\n",
       "        text-align: right;\n",
       "    }\n",
       "</style>\n",
       "<table border=\"1\" class=\"dataframe\">\n",
       "  <thead>\n",
       "    <tr style=\"text-align: right;\">\n",
       "      <th></th>\n",
       "      <th>Age</th>\n",
       "      <th>Region_Code</th>\n",
       "      <th>Occupation</th>\n",
       "      <th>Channel_Code</th>\n",
       "      <th>Vintage</th>\n",
       "      <th>Avg_Account_Balance</th>\n",
       "      <th>Gender_Female</th>\n",
       "      <th>Gender_Male</th>\n",
       "      <th>Credit_Product_Missing</th>\n",
       "      <th>Credit_Product_No</th>\n",
       "      <th>Credit_Product_Yes</th>\n",
       "      <th>Is_Active_No</th>\n",
       "      <th>Is_Active_Yes</th>\n",
       "    </tr>\n",
       "  </thead>\n",
       "  <tbody>\n",
       "    <tr>\n",
       "      <th>138403</th>\n",
       "      <td>0.112903</td>\n",
       "      <td>0.013206</td>\n",
       "      <td>0.293006</td>\n",
       "      <td>0.27963</td>\n",
       "      <td>0.101562</td>\n",
       "      <td>0.163097</td>\n",
       "      <td>1</td>\n",
       "      <td>0</td>\n",
       "      <td>0</td>\n",
       "      <td>1</td>\n",
       "      <td>0</td>\n",
       "      <td>1</td>\n",
       "      <td>0</td>\n",
       "    </tr>\n",
       "    <tr>\n",
       "      <th>117015</th>\n",
       "      <td>0.516129</td>\n",
       "      <td>0.016181</td>\n",
       "      <td>0.410565</td>\n",
       "      <td>0.42209</td>\n",
       "      <td>0.234375</td>\n",
       "      <td>0.024960</td>\n",
       "      <td>1</td>\n",
       "      <td>0</td>\n",
       "      <td>0</td>\n",
       "      <td>1</td>\n",
       "      <td>0</td>\n",
       "      <td>1</td>\n",
       "      <td>0</td>\n",
       "    </tr>\n",
       "    <tr>\n",
       "      <th>322</th>\n",
       "      <td>0.161290</td>\n",
       "      <td>0.031063</td>\n",
       "      <td>0.293006</td>\n",
       "      <td>0.42209</td>\n",
       "      <td>0.046875</td>\n",
       "      <td>0.081589</td>\n",
       "      <td>1</td>\n",
       "      <td>0</td>\n",
       "      <td>0</td>\n",
       "      <td>1</td>\n",
       "      <td>0</td>\n",
       "      <td>1</td>\n",
       "      <td>0</td>\n",
       "    </tr>\n",
       "    <tr>\n",
       "      <th>64910</th>\n",
       "      <td>0.403226</td>\n",
       "      <td>0.146237</td>\n",
       "      <td>0.410565</td>\n",
       "      <td>0.27963</td>\n",
       "      <td>0.664062</td>\n",
       "      <td>0.114638</td>\n",
       "      <td>1</td>\n",
       "      <td>0</td>\n",
       "      <td>0</td>\n",
       "      <td>0</td>\n",
       "      <td>1</td>\n",
       "      <td>0</td>\n",
       "      <td>1</td>\n",
       "    </tr>\n",
       "    <tr>\n",
       "      <th>39919</th>\n",
       "      <td>0.129032</td>\n",
       "      <td>0.021512</td>\n",
       "      <td>0.285575</td>\n",
       "      <td>0.42209</td>\n",
       "      <td>0.093750</td>\n",
       "      <td>0.065166</td>\n",
       "      <td>1</td>\n",
       "      <td>0</td>\n",
       "      <td>0</td>\n",
       "      <td>1</td>\n",
       "      <td>0</td>\n",
       "      <td>1</td>\n",
       "      <td>0</td>\n",
       "    </tr>\n",
       "  </tbody>\n",
       "</table>\n",
       "</div>"
      ],
      "text/plain": [
       "             Age  Region_Code  Occupation  Channel_Code   Vintage  \\\n",
       "138403  0.112903     0.013206    0.293006       0.27963  0.101562   \n",
       "117015  0.516129     0.016181    0.410565       0.42209  0.234375   \n",
       "322     0.161290     0.031063    0.293006       0.42209  0.046875   \n",
       "64910   0.403226     0.146237    0.410565       0.27963  0.664062   \n",
       "39919   0.129032     0.021512    0.285575       0.42209  0.093750   \n",
       "\n",
       "        Avg_Account_Balance  Gender_Female  Gender_Male  \\\n",
       "138403             0.163097              1            0   \n",
       "117015             0.024960              1            0   \n",
       "322                0.081589              1            0   \n",
       "64910              0.114638              1            0   \n",
       "39919              0.065166              1            0   \n",
       "\n",
       "        Credit_Product_Missing  Credit_Product_No  Credit_Product_Yes  \\\n",
       "138403                       0                  1                   0   \n",
       "117015                       0                  1                   0   \n",
       "322                          0                  1                   0   \n",
       "64910                        0                  0                   1   \n",
       "39919                        0                  1                   0   \n",
       "\n",
       "        Is_Active_No  Is_Active_Yes  \n",
       "138403             1              0  \n",
       "117015             1              0  \n",
       "322                1              0  \n",
       "64910              0              1  \n",
       "39919              1              0  "
      ]
     },
     "execution_count": 104,
     "metadata": {},
     "output_type": "execute_result"
    }
   ],
   "source": [
    "X_train.head()"
   ]
  },
  {
   "cell_type": "markdown",
   "metadata": {},
   "source": [
    "### MachineLearning"
   ]
  },
  {
   "cell_type": "markdown",
   "metadata": {},
   "source": [
    "#### Strategy\n",
    "1. First I check the record on basis of default classifier - one bagging and one boosting\n",
    "2. Parameter Optimization done and check accuracy\n",
    "3. For imbalanced problem two other techniques have been used - move the threshold and use of resample techniques"
   ]
  },
  {
   "cell_type": "markdown",
   "metadata": {},
   "source": [
    "### CatBoost"
   ]
  },
  {
   "cell_type": "code",
   "execution_count": 105,
   "metadata": {},
   "outputs": [
    {
     "name": "stdout",
     "output_type": "stream",
     "text": [
      "Confusion Metrics\n",
      " [[53560  2700]\n",
      " [ 7688  9770]]\n",
      "roc_auc_score\n",
      " 0.7558186776392946\n",
      "              precision    recall  f1-score   support\n",
      "\n",
      "           0       0.87      0.95      0.91     56260\n",
      "           1       0.78      0.56      0.65     17458\n",
      "\n",
      "    accuracy                           0.86     73718\n",
      "   macro avg       0.83      0.76      0.78     73718\n",
      "weighted avg       0.85      0.86      0.85     73718\n",
      "\n"
     ]
    }
   ],
   "source": [
    "#catboost model applied and checked for roc_auc_score\n",
    "\n",
    "cat_model = CatBoostClassifier()\n",
    "cat_model.fit(X_train,y_train,silent=True)\n",
    "pred_cat = cat_model.predict(X_test)\n",
    "print('Confusion Metrics\\n',confusion_matrix(y_test,pred_cat))\n",
    "print('roc_auc_score\\n',roc_auc_score(y_test,pred_cat))\n",
    "print(classification_report(y_test,pred_cat))"
   ]
  },
  {
   "cell_type": "code",
   "execution_count": 110,
   "metadata": {},
   "outputs": [
    {
     "name": "stdout",
     "output_type": "stream",
     "text": [
      "Credit_Product_Missing    23.847411\n",
      "Occupation                23.494158\n",
      "Age                       12.379469\n",
      "Vintage                   10.553117\n",
      "Credit_Product_Yes         6.967269\n",
      "dtype: float64\n"
     ]
    }
   ],
   "source": [
    "#important features\n",
    "\n",
    "imp_feat=pd.Series(cat_model.feature_importances_,index=df.drop(['Is_Lead'],axis=1).columns) \n",
    "print(imp_feat.sort_values(ascending=False)[:5]) "
   ]
  },
  {
   "cell_type": "markdown",
   "metadata": {},
   "source": [
    "### RandomForest"
   ]
  },
  {
   "cell_type": "code",
   "execution_count": 108,
   "metadata": {},
   "outputs": [
    {
     "name": "stdout",
     "output_type": "stream",
     "text": [
      "Confusion Metrics\n",
      " [[52776  3484]\n",
      " [ 7412 10046]]\n",
      "roc_auc_score\n",
      " 0.7567557129747624\n",
      "              precision    recall  f1-score   support\n",
      "\n",
      "           0       0.88      0.94      0.91     56260\n",
      "           1       0.74      0.58      0.65     17458\n",
      "\n",
      "    accuracy                           0.85     73718\n",
      "   macro avg       0.81      0.76      0.78     73718\n",
      "weighted avg       0.85      0.85      0.85     73718\n",
      "\n"
     ]
    }
   ],
   "source": [
    "#randomforest model applied and checked for roc_auc_score\n",
    "\n",
    "rf_model = RandomForestClassifier()\n",
    "rf_model.fit(X_train,y_train)    \n",
    "pred_rf = rf_model.predict(X_test)\n",
    "print('Confusion Metrics\\n',confusion_matrix(y_test,pred_rf))\n",
    "print('roc_auc_score\\n',roc_auc_score(y_test,pred_rf))\n",
    "print(classification_report(y_test,pred_rf))"
   ]
  },
  {
   "cell_type": "code",
   "execution_count": 109,
   "metadata": {},
   "outputs": [
    {
     "name": "stdout",
     "output_type": "stream",
     "text": [
      "Avg_Account_Balance       0.223555\n",
      "Credit_Product_Missing    0.168907\n",
      "Vintage                   0.147958\n",
      "Age                       0.140127\n",
      "Credit_Product_No         0.098367\n",
      "dtype: float64\n"
     ]
    }
   ],
   "source": [
    "#important features\n",
    "\n",
    "imp_feat=pd.Series(rf_model.feature_importances_,index=df.drop(['Is_Lead'],axis=1).columns) \n",
    "print(imp_feat.sort_values(ascending=False)[:5]) "
   ]
  },
  {
   "cell_type": "markdown",
   "metadata": {},
   "source": [
    "#### Show RF and Catboost confusion matrix"
   ]
  },
  {
   "cell_type": "code",
   "execution_count": 111,
   "metadata": {},
   "outputs": [
    {
     "name": "stdout",
     "output_type": "stream",
     "text": [
      "Randomforest\n"
     ]
    },
    {
     "data": {
      "image/png": "[encoded data removed]",
      "text/plain": [
       "<Figure size 432x288 with 2 Axes>"
      ]
     },
     "metadata": {
      "needs_background": "light"
     },
     "output_type": "display_data"
    }
   ],
   "source": [
    "print('Randomforest')\n",
    "plot_confusion_matrix(rf_model,X_test, y_test)\n",
    "plt.show()"
   ]
  },
  {
   "cell_type": "code",
   "execution_count": 112,
   "metadata": {},
   "outputs": [
    {
     "name": "stdout",
     "output_type": "stream",
     "text": [
      "CatBoost\n"
     ]
    },
    {
     "data": {
      "image/png": "[encoded data removed]",
      "text/plain": [
       "<Figure size 432x288 with 2 Axes>"
      ]
     },
     "metadata": {
      "needs_background": "light"
     },
     "output_type": "display_data"
    }
   ],
   "source": [
    "print('CatBoost')\n",
    "plot_confusion_matrix(cat_model,X_test, y_test)\n",
    "plt.show()"
   ]
  },
  {
   "cell_type": "markdown",
   "metadata": {},
   "source": [
    "#### Optimal threshold detection using optimizer and threshold shifting to increase accuracy"
   ]
  },
  {
   "cell_type": "markdown",
   "metadata": {},
   "source": [
    "I'll optimize the model, then extract prediction probability. After that, I'll shift the threshold in a grid to find the optimal threshold value where the prediction is most perfect"
   ]
  },
  {
   "cell_type": "code",
   "execution_count": 120,
   "metadata": {},
   "outputs": [],
   "source": [
    "X = X_train.values\n",
    "y = y_train.values"
   ]
  },
  {
   "cell_type": "code",
   "execution_count": 125,
   "metadata": {},
   "outputs": [],
   "source": [
    "def optimize(params,x,y):\n",
    "    \n",
    "    model = RandomForestClassifier(**params)\n",
    "    kf = model_selection.StratifiedKFold(n_splits=5)\n",
    "    accuracies = []\n",
    "    for idx in kf.split(X=x,y=y):\n",
    "        train_idx, test_idx = idx[0],idx[1]\n",
    "        xtrain = x[train_idx]\n",
    "        ytrain = y[train_idx]\n",
    "        \n",
    "        xtest = x[test_idx]\n",
    "        ytest = y[test_idx]\n",
    "        \n",
    "        model.fit(xtrain,ytrain)\n",
    "        preds = model.predict(xtest)\n",
    "        fold_acc = roc_auc_score(ytest,preds)\n",
    "        accuracies.append(fold_acc)\n",
    "    return -1.0 * np.mean(accuracies)"
   ]
  },
  {
   "cell_type": "code",
   "execution_count": 126,
   "metadata": {},
   "outputs": [],
   "source": [
    "param_space = {\n",
    "    'max_depth': scope.int(hp.quniform('max_depth',3,15,1)),\n",
    "    'n_estimators': scope.int(hp.quniform('n_estimators',300,600,1)),\n",
    "    'max_features': hp.uniform('max_features',0.01,1),\n",
    "}\n",
    "\n",
    "optimization_function = partial(optimize,x=X,y=y)\n",
    "\n",
    "trials = Trials()"
   ]
  },
  {
   "cell_type": "code",
   "execution_count": 127,
   "metadata": {},
   "outputs": [
    {
     "name": "stdout",
     "output_type": "stream",
     "text": [
      "100%|████████████████████████████████████████████| 10/10 [1:08:46<00:00, 412.69s/trial, best loss: -0.7555027503140342]\n"
     ]
    }
   ],
   "source": [
    "result = fmin(fn=optimization_function,\n",
    "                    space=param_space,\n",
    "                    algo=tpe.suggest,\n",
    "                    max_evals = 10,\n",
    "                    trials=trials)"
   ]
  },
  {
   "cell_type": "code",
   "execution_count": 128,
   "metadata": {},
   "outputs": [
    {
     "name": "stdout",
     "output_type": "stream",
     "text": [
      "{'max_depth': 13.0, 'max_features': 0.8761251293308258, 'n_estimators': 427.0}\n"
     ]
    }
   ],
   "source": [
    "print(result)"
   ]
  },
  {
   "cell_type": "code",
   "execution_count": 129,
   "metadata": {},
   "outputs": [
    {
     "data": {
      "text/plain": [
       "array([[0.95932745, 0.04067255],\n",
       "       [0.93073312, 0.06926688],\n",
       "       [0.86867087, 0.13132913],\n",
       "       ...,\n",
       "       [0.95680103, 0.04319897],\n",
       "       [0.57843957, 0.42156043],\n",
       "       [0.94882703, 0.05117297]])"
      ]
     },
     "execution_count": 129,
     "metadata": {},
     "output_type": "execute_result"
    }
   ],
   "source": [
    "rf_model = RandomForestClassifier(max_depth=13, max_features=0.8761251293308258, n_estimators=427)\n",
    "rf_model.fit(X_train,y_train)   \n",
    "rf_model.predict_proba(X_test) #probability of the class label"
   ]
  },
  {
   "cell_type": "code",
   "execution_count": 130,
   "metadata": {},
   "outputs": [
    {
     "name": "stdout",
     "output_type": "stream",
     "text": [
      "Threshold 0.2 -- 0.7997196806946392\n",
      "Threshold 0.25 -- 0.8022261084924881\n",
      "Threshold 0.3 -- 0.7999717141463518\n",
      "Threshold 0.35 -- 0.7947528855704353\n",
      "Threshold 0.39999999999999997 -- 0.7832787497062168\n",
      "Threshold 0.44999999999999996 -- 0.7702987316835811\n",
      "Threshold 0.49999999999999994 -- 0.7527995318366435\n",
      "Threshold 0.5499999999999999 -- 0.7380371802487974\n",
      "Threshold 0.6 -- 0.7308087273964142\n",
      "Threshold 0.65 -- 0.725927911818999\n",
      "Threshold 0.7000000000000001 -- 0.7224702762329148\n",
      "Threshold 0.7500000000000001 -- 0.715150174852636\n",
      "---Optimum Threshold --- 0.25 --ROC-- 0.8022261084924881\n"
     ]
    }
   ],
   "source": [
    "#threshold shifting using prediction probability\n",
    "\n",
    "step_factor = 0.05 \n",
    "threshold_value = 0.2 \n",
    "roc_score=0\n",
    "\n",
    "predicted_proba = rf_model.predict_proba(X_test) #probability of prediction\n",
    "\n",
    "while threshold_value <=0.8: #continue to check best threshold upto probability 0.8\n",
    "    temp_thresh = threshold_value\n",
    "    predicted = (predicted_proba [:,1] >= temp_thresh).astype('int') #change the class boundary for prediction\n",
    "    print('Threshold',temp_thresh,'--',roc_auc_score(y_test, predicted))\n",
    "    if roc_score<roc_auc_score(y_test, predicted): # \n",
    "        roc_score = roc_auc_score(y_test, predicted)\n",
    "        thrsh_score = threshold_value\n",
    "    threshold_value = threshold_value + step_factor\n",
    "print('---Optimum Threshold ---',thrsh_score,'--ROC--',roc_score)  "
   ]
  },
  {
   "cell_type": "markdown",
   "metadata": {},
   "source": [
    "#### The score increased from 0.75 to 0.8 if we can shift the probability threshold to 0.25"
   ]
  },
  {
   "cell_type": "markdown",
   "metadata": {},
   "source": [
    "#### Upsampling techniques used for increasing accuracy"
   ]
  },
  {
   "cell_type": "code",
   "execution_count": 168,
   "metadata": {},
   "outputs": [],
   "source": [
    "# create the training df by remerging X_train and y_train\n",
    "df_train = X_train.join(y_train)"
   ]
  },
  {
   "cell_type": "code",
   "execution_count": 169,
   "metadata": {},
   "outputs": [
    {
     "data": {
      "text/plain": [
       "0    131177\n",
       "1     40830\n",
       "Name: Is_Lead, dtype: int64"
      ]
     },
     "execution_count": 169,
     "metadata": {},
     "output_type": "execute_result"
    }
   ],
   "source": [
    "df_train['Is_Lead'].value_counts()"
   ]
  },
  {
   "cell_type": "code",
   "execution_count": 171,
   "metadata": {},
   "outputs": [
    {
     "data": {
      "text/plain": [
       "1    131177\n",
       "0    131177\n",
       "Name: Is_Lead, dtype: int64"
      ]
     },
     "execution_count": 171,
     "metadata": {},
     "output_type": "execute_result"
    }
   ],
   "source": [
    "from sklearn.utils import resample\n",
    "\n",
    "#create two different dataframe of majority and minority class \n",
    "\n",
    "df_majority = df_train[(df_train['Is_Lead']==0)] \n",
    "df_minority = df_train[(df_train['Is_Lead']==1)] \n",
    "\n",
    "# upsample minority class\n",
    "\n",
    "df_minority_upsampled = resample(df_minority, \n",
    "                                 replace=True,    # sample with replacement\n",
    "                                 n_samples= 131177, # to match majority class\n",
    "                                 random_state=42)  # reproducible results\n",
    "\n",
    "# Combine minority class with downsampled majority class\n",
    "df_upsampled = pd.concat([df_minority_upsampled, df_majority])\n",
    "\n",
    "# Display new class counts\n",
    "df_upsampled['Is_Lead'].value_counts()"
   ]
  },
  {
   "cell_type": "code",
   "execution_count": 172,
   "metadata": {},
   "outputs": [
    {
     "name": "stdout",
     "output_type": "stream",
     "text": [
      "Confusion Metrics\n",
      " [[52794  3466]\n",
      " [ 7471  9987]]\n",
      "roc_auc_score\n",
      " 0.7552259148023001\n",
      "              precision    recall  f1-score   support\n",
      "\n",
      "           0       0.88      0.94      0.91     56260\n",
      "           1       0.74      0.57      0.65     17458\n",
      "\n",
      "    accuracy                           0.85     73718\n",
      "   macro avg       0.81      0.76      0.78     73718\n",
      "weighted avg       0.84      0.85      0.84     73718\n",
      "\n"
     ]
    }
   ],
   "source": [
    "rf_model = RandomForestClassifier()\n",
    "rf_model.fit(X_train,y_train)    \n",
    "pred_rf = rf_model.predict(X_test)\n",
    "print('Confusion Metrics\\n',confusion_matrix(y_test,pred_rf))\n",
    "print('roc_auc_score\\n',roc_auc_score(y_test,pred_rf))\n",
    "print(classification_report(y_test,pred_rf))"
   ]
  },
  {
   "cell_type": "markdown",
   "metadata": {},
   "source": [
    "### From example it can be found that threshold shifting is the most optimal step to increase the accuracy"
   ]
  },
  {
   "cell_type": "markdown",
   "metadata": {},
   "source": [
    "### Final prediction"
   ]
  },
  {
   "cell_type": "code",
   "execution_count": null,
   "metadata": {},
   "outputs": [],
   "source": [
    "#final predicted dataframe\n",
    "\n",
    "# final_pred = lgb_model.predict(df_test)\n",
    "# final_df = pd.DataFrame({'ID':test_data_id,'Is_Lead':final_pred})\n",
    "# final_df.to_csv('Submission.csv',index=None)"
   ]
  }
 ],
 "metadata": {
  "kernelspec": {
   "display_name": "Python 3",
   "language": "python",
   "name": "python3"
  },
  "language_info": {
   "codemirror_mode": {
    "name": "ipython",
    "version": 3
   },
   "file_extension": ".py",
   "mimetype": "text/x-python",
   "name": "python",
   "nbconvert_exporter": "python",
   "pygments_lexer": "ipython3",
   "version": "3.8.3"
  }
 },
 "nbformat": 4,
 "nbformat_minor": 4
}
